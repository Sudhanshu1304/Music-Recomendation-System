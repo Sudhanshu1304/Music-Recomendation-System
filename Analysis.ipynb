{
 "cells": [
  {
   "cell_type": "code",
   "execution_count": 143,
   "metadata": {},
   "outputs": [],
   "source": [
    "import pandas as pd\n",
    "import seaborn as sns\n",
    "import matplotlib.pyplot  as plt\n",
    "import numpy as np\n",
    "import ModelAuto as ma\n",
    "sns.set()"
   ]
  },
  {
   "cell_type": "code",
   "execution_count": 2,
   "metadata": {},
   "outputs": [],
   "source": [
    "data = pd.read_csv('DataSet/preprocessed.csv')"
   ]
  },
  {
   "cell_type": "code",
   "execution_count": 3,
   "metadata": {},
   "outputs": [
    {
     "data": {
      "text/html": [
       "<div>\n",
       "<style scoped>\n",
       "    .dataframe tbody tr th:only-of-type {\n",
       "        vertical-align: middle;\n",
       "    }\n",
       "\n",
       "    .dataframe tbody tr th {\n",
       "        vertical-align: top;\n",
       "    }\n",
       "\n",
       "    .dataframe thead th {\n",
       "        text-align: right;\n",
       "    }\n",
       "</style>\n",
       "<table border=\"1\" class=\"dataframe\">\n",
       "  <thead>\n",
       "    <tr style=\"text-align: right;\">\n",
       "      <th></th>\n",
       "      <th>Unnamed: 0</th>\n",
       "      <th>msno</th>\n",
       "      <th>song_id</th>\n",
       "      <th>source_system_tab</th>\n",
       "      <th>source_screen_name</th>\n",
       "      <th>source_type</th>\n",
       "      <th>target</th>\n",
       "      <th>song_length</th>\n",
       "      <th>genre_ids</th>\n",
       "      <th>artist_name</th>\n",
       "      <th>...</th>\n",
       "      <th>registered_via</th>\n",
       "      <th>registration_init_time</th>\n",
       "      <th>expiration_date</th>\n",
       "      <th>membership_days</th>\n",
       "      <th>registration_year</th>\n",
       "      <th>registration_month</th>\n",
       "      <th>registration_day</th>\n",
       "      <th>expiration_year</th>\n",
       "      <th>expiration_month</th>\n",
       "      <th>expiration_day</th>\n",
       "    </tr>\n",
       "  </thead>\n",
       "  <tbody>\n",
       "    <tr>\n",
       "      <th>0</th>\n",
       "      <td>0</td>\n",
       "      <td>FGtllVqz18RPiwJj/edr2gV78zirAiY/9SmYvia+kCg=</td>\n",
       "      <td>BBzumQNXUHKdEBOB7mAJuzok+IJA1c2Ryg/yzTF6tik=</td>\n",
       "      <td>explore</td>\n",
       "      <td>Explore</td>\n",
       "      <td>online-playlist</td>\n",
       "      <td>1</td>\n",
       "      <td>206471.0</td>\n",
       "      <td>359</td>\n",
       "      <td>Bastille</td>\n",
       "      <td>...</td>\n",
       "      <td>7</td>\n",
       "      <td>2012-01-02</td>\n",
       "      <td>2017-10-05</td>\n",
       "      <td>2103 days</td>\n",
       "      <td>2012</td>\n",
       "      <td>1</td>\n",
       "      <td>2</td>\n",
       "      <td>2017</td>\n",
       "      <td>10</td>\n",
       "      <td>5</td>\n",
       "    </tr>\n",
       "    <tr>\n",
       "      <th>1</th>\n",
       "      <td>1</td>\n",
       "      <td>Xumu+NIjS6QYVxDS4/t3SawvJ7viT9hPKXmf0RtLNx8=</td>\n",
       "      <td>bhp/MpSNoqoxOIB+/l8WPqu6jldth4DIpCm3ayXnJqM=</td>\n",
       "      <td>my library</td>\n",
       "      <td>Local playlist more</td>\n",
       "      <td>local-playlist</td>\n",
       "      <td>1</td>\n",
       "      <td>284584.0</td>\n",
       "      <td>1259</td>\n",
       "      <td>Various Artists</td>\n",
       "      <td>...</td>\n",
       "      <td>9</td>\n",
       "      <td>2011-05-25</td>\n",
       "      <td>2017-09-11</td>\n",
       "      <td>2301 days</td>\n",
       "      <td>2011</td>\n",
       "      <td>5</td>\n",
       "      <td>25</td>\n",
       "      <td>2017</td>\n",
       "      <td>9</td>\n",
       "      <td>11</td>\n",
       "    </tr>\n",
       "    <tr>\n",
       "      <th>2</th>\n",
       "      <td>2</td>\n",
       "      <td>Xumu+NIjS6QYVxDS4/t3SawvJ7viT9hPKXmf0RtLNx8=</td>\n",
       "      <td>JNWfrrC7zNN7BdMpsISKa4Mw+xVJYNnxXh3/Epw7QgY=</td>\n",
       "      <td>my library</td>\n",
       "      <td>Local playlist more</td>\n",
       "      <td>local-playlist</td>\n",
       "      <td>1</td>\n",
       "      <td>225396.0</td>\n",
       "      <td>1259</td>\n",
       "      <td>Nas</td>\n",
       "      <td>...</td>\n",
       "      <td>9</td>\n",
       "      <td>2011-05-25</td>\n",
       "      <td>2017-09-11</td>\n",
       "      <td>2301 days</td>\n",
       "      <td>2011</td>\n",
       "      <td>5</td>\n",
       "      <td>25</td>\n",
       "      <td>2017</td>\n",
       "      <td>9</td>\n",
       "      <td>11</td>\n",
       "    </tr>\n",
       "    <tr>\n",
       "      <th>3</th>\n",
       "      <td>3</td>\n",
       "      <td>Xumu+NIjS6QYVxDS4/t3SawvJ7viT9hPKXmf0RtLNx8=</td>\n",
       "      <td>2A87tzfnJTSWqD7gIZHisolhe4DMdzkbd6LzO1KHjNs=</td>\n",
       "      <td>my library</td>\n",
       "      <td>Local playlist more</td>\n",
       "      <td>local-playlist</td>\n",
       "      <td>1</td>\n",
       "      <td>255512.0</td>\n",
       "      <td>1019</td>\n",
       "      <td>Soundway</td>\n",
       "      <td>...</td>\n",
       "      <td>9</td>\n",
       "      <td>2011-05-25</td>\n",
       "      <td>2017-09-11</td>\n",
       "      <td>2301 days</td>\n",
       "      <td>2011</td>\n",
       "      <td>5</td>\n",
       "      <td>25</td>\n",
       "      <td>2017</td>\n",
       "      <td>9</td>\n",
       "      <td>11</td>\n",
       "    </tr>\n",
       "    <tr>\n",
       "      <th>4</th>\n",
       "      <td>4</td>\n",
       "      <td>FGtllVqz18RPiwJj/edr2gV78zirAiY/9SmYvia+kCg=</td>\n",
       "      <td>3qm6XTZ6MOCU11x8FIVbAGH5l5uMkT3/ZalWG1oo2Gc=</td>\n",
       "      <td>explore</td>\n",
       "      <td>Explore</td>\n",
       "      <td>online-playlist</td>\n",
       "      <td>1</td>\n",
       "      <td>187802.0</td>\n",
       "      <td>1011</td>\n",
       "      <td>Brett Young</td>\n",
       "      <td>...</td>\n",
       "      <td>7</td>\n",
       "      <td>2012-01-02</td>\n",
       "      <td>2017-10-05</td>\n",
       "      <td>2103 days</td>\n",
       "      <td>2012</td>\n",
       "      <td>1</td>\n",
       "      <td>2</td>\n",
       "      <td>2017</td>\n",
       "      <td>10</td>\n",
       "      <td>5</td>\n",
       "    </tr>\n",
       "  </tbody>\n",
       "</table>\n",
       "<p>5 rows × 26 columns</p>\n",
       "</div>"
      ],
      "text/plain": [
       "   Unnamed: 0                                          msno  \\\n",
       "0           0  FGtllVqz18RPiwJj/edr2gV78zirAiY/9SmYvia+kCg=   \n",
       "1           1  Xumu+NIjS6QYVxDS4/t3SawvJ7viT9hPKXmf0RtLNx8=   \n",
       "2           2  Xumu+NIjS6QYVxDS4/t3SawvJ7viT9hPKXmf0RtLNx8=   \n",
       "3           3  Xumu+NIjS6QYVxDS4/t3SawvJ7viT9hPKXmf0RtLNx8=   \n",
       "4           4  FGtllVqz18RPiwJj/edr2gV78zirAiY/9SmYvia+kCg=   \n",
       "\n",
       "                                        song_id source_system_tab  \\\n",
       "0  BBzumQNXUHKdEBOB7mAJuzok+IJA1c2Ryg/yzTF6tik=           explore   \n",
       "1  bhp/MpSNoqoxOIB+/l8WPqu6jldth4DIpCm3ayXnJqM=        my library   \n",
       "2  JNWfrrC7zNN7BdMpsISKa4Mw+xVJYNnxXh3/Epw7QgY=        my library   \n",
       "3  2A87tzfnJTSWqD7gIZHisolhe4DMdzkbd6LzO1KHjNs=        my library   \n",
       "4  3qm6XTZ6MOCU11x8FIVbAGH5l5uMkT3/ZalWG1oo2Gc=           explore   \n",
       "\n",
       "    source_screen_name      source_type  target  song_length genre_ids  \\\n",
       "0              Explore  online-playlist       1     206471.0       359   \n",
       "1  Local playlist more   local-playlist       1     284584.0      1259   \n",
       "2  Local playlist more   local-playlist       1     225396.0      1259   \n",
       "3  Local playlist more   local-playlist       1     255512.0      1019   \n",
       "4              Explore  online-playlist       1     187802.0      1011   \n",
       "\n",
       "       artist_name  ... registered_via registration_init_time  \\\n",
       "0         Bastille  ...              7             2012-01-02   \n",
       "1  Various Artists  ...              9             2011-05-25   \n",
       "2              Nas  ...              9             2011-05-25   \n",
       "3         Soundway  ...              9             2011-05-25   \n",
       "4      Brett Young  ...              7             2012-01-02   \n",
       "\n",
       "   expiration_date  membership_days  registration_year registration_month  \\\n",
       "0       2017-10-05        2103 days               2012                  1   \n",
       "1       2017-09-11        2301 days               2011                  5   \n",
       "2       2017-09-11        2301 days               2011                  5   \n",
       "3       2017-09-11        2301 days               2011                  5   \n",
       "4       2017-10-05        2103 days               2012                  1   \n",
       "\n",
       "   registration_day expiration_year expiration_month expiration_day  \n",
       "0                 2            2017               10              5  \n",
       "1                25            2017                9             11  \n",
       "2                25            2017                9             11  \n",
       "3                25            2017                9             11  \n",
       "4                 2            2017               10              5  \n",
       "\n",
       "[5 rows x 26 columns]"
      ]
     },
     "execution_count": 3,
     "metadata": {},
     "output_type": "execute_result"
    }
   ],
   "source": [
    "data.head()"
   ]
  },
  {
   "cell_type": "code",
   "execution_count": 6,
   "metadata": {},
   "outputs": [],
   "source": [
    "data.drop(['Unnamed: 0'],inplace=True,axis=1)"
   ]
  },
  {
   "cell_type": "code",
   "execution_count": 10,
   "metadata": {},
   "outputs": [],
   "source": [
    "# Source System Tab"
   ]
  },
  {
   "cell_type": "code",
   "execution_count": 15,
   "metadata": {},
   "outputs": [
    {
     "data": {
      "text/plain": [
       "my library      3684730\n",
       "discover        2179252\n",
       "search           623286\n",
       "radio            476701\n",
       "listen with      212266\n",
       "explore          167949\n",
       "UnKnown           24849\n",
       "notification       6185\n",
       "settings           2200\n",
       "Name: source_system_tab, dtype: int64"
      ]
     },
     "execution_count": 15,
     "metadata": {},
     "output_type": "execute_result"
    }
   ],
   "source": [
    "d = data.source_system_tab.value_counts()\n",
    "d"
   ]
  },
  {
   "cell_type": "code",
   "execution_count": 164,
   "metadata": {},
   "outputs": [],
   "source": [
    "def get_prob(feature):\n",
    "    \n",
    "    d = dict(feature.value_counts())\n",
    "    keys = d.keys()\n",
    "    val = []\n",
    "    #print('Krys : ',keys)\n",
    "    for k in keys:\n",
    "        \n",
    "        g = feature.where((feature==k) & (data['target']==1))\n",
    "        p_sum = g.count()\n",
    "        p_for_1 = p_sum/d[k]\n",
    "        p_for_1 = (p_for_1)\n",
    "        d[k] = p_for_1\n",
    "        val.append(p_for_1)\n",
    "    \n",
    "    fig = plt.figure(figsize=(25,10))\n",
    "    plt.ylabel('Prob of getting 1')\n",
    "    plt.bar(keys,val)\n",
    "    plt.show()\n",
    "    return pd.DataFrame(d.values(),index=d.keys())#,keys,val\n",
    "        "
   ]
  },
  {
   "cell_type": "code",
   "execution_count": 137,
   "metadata": {},
   "outputs": [
    {
     "data": {
      "text/plain": [
       "<AxesSubplot:xlabel='source_system_tab', ylabel='Count'>"
      ]
     },
     "execution_count": 137,
     "metadata": {},
     "output_type": "execute_result"
    },
    {
     "data": {
      "image/png": "[encoded data removed]",
      "text/plain": [
       "<Figure size 720x360 with 1 Axes>"
      ]
     },
     "metadata": {},
     "output_type": "display_data"
    }
   ],
   "source": [
    "fig = plt.figure(figsize=(10,5))\n",
    "sns.histplot(data=data,x='source_system_tab',hue='target',fill=False)"
   ]
  },
  {
   "cell_type": "code",
   "execution_count": 154,
   "metadata": {},
   "outputs": [
    {
     "data": {
      "image/png": "[encoded data removed]",
      "text/plain": [
       "<Figure size 720x360 with 1 Axes>"
      ]
     },
     "metadata": {},
     "output_type": "display_data"
    }
   ],
   "source": [
    "get_prob(data.source_system_tab)"
   ]
  },
  {
   "cell_type": "markdown",
   "metadata": {},
   "source": [
    "It looks like there is above 50% probarility that a song is hard again if it is in my library or in \n",
    "setting(though very less instances to claim this)"
   ]
  },
  {
   "cell_type": "code",
   "execution_count": 155,
   "metadata": {},
   "outputs": [
    {
     "data": {
      "text/plain": [
       "Local playlist more     3228202\n",
       "Online playlist more    1294689\n",
       "Radio                    474467\n",
       "Album more               420156\n",
       "UnKnown                  414804\n",
       "Search                   298487\n",
       "Artist more              252429\n",
       "Discover Feature         244246\n",
       "Discover Chart           213658\n",
       "Others profile more      201795\n",
       "Discover Genre            82202\n",
       "My library                75980\n",
       "Explore                   72342\n",
       "Unknown                   54170\n",
       "Discover New              15955\n",
       "Search Trends             13632\n",
       "Search Home               13482\n",
       "My library_Search          6451\n",
       "Self profile more           212\n",
       "Concert                      47\n",
       "Payment                      12\n",
       "Name: source_screen_name, dtype: int64"
      ]
     },
     "execution_count": 155,
     "metadata": {},
     "output_type": "execute_result"
    }
   ],
   "source": [
    "d = data.source_screen_name.value_counts()\n",
    "d"
   ]
  },
  {
   "cell_type": "code",
   "execution_count": 161,
   "metadata": {},
   "outputs": [
    {
     "data": {
      "text/plain": [
       "<AxesSubplot:xlabel='source_screen_name', ylabel='Count'>"
      ]
     },
     "execution_count": 161,
     "metadata": {},
     "output_type": "execute_result"
    },
    {
     "data": {
      "image/png": "[encoded data removed]",
      "text/plain": [
       "<Figure size 1800x720 with 1 Axes>"
      ]
     },
     "metadata": {},
     "output_type": "display_data"
    }
   ],
   "source": [
    "fig = plt.figure(figsize=(25,10))\n",
    "sns.histplot(data=data,x='source_screen_name',hue='target',fill=False)"
   ]
  },
  {
   "cell_type": "code",
   "execution_count": 165,
   "metadata": {},
   "outputs": [
    {
     "data": {
      "image/png": "[encoded data removed]",
      "text/plain": [
       "<Figure size 1800x720 with 1 Axes>"
      ]
     },
     "metadata": {},
     "output_type": "display_data"
    },
    {
     "data": {
      "text/html": [
       "<div>\n",
       "<style scoped>\n",
       "    .dataframe tbody tr th:only-of-type {\n",
       "        vertical-align: middle;\n",
       "    }\n",
       "\n",
       "    .dataframe tbody tr th {\n",
       "        vertical-align: top;\n",
       "    }\n",
       "\n",
       "    .dataframe thead th {\n",
       "        text-align: right;\n",
       "    }\n",
       "</style>\n",
       "<table border=\"1\" class=\"dataframe\">\n",
       "  <thead>\n",
       "    <tr style=\"text-align: right;\">\n",
       "      <th></th>\n",
       "      <th>0</th>\n",
       "    </tr>\n",
       "  </thead>\n",
       "  <tbody>\n",
       "    <tr>\n",
       "      <th>Local playlist more</th>\n",
       "      <td>0.636983</td>\n",
       "    </tr>\n",
       "    <tr>\n",
       "      <th>Online playlist more</th>\n",
       "      <td>0.414939</td>\n",
       "    </tr>\n",
       "    <tr>\n",
       "      <th>Radio</th>\n",
       "      <td>0.217256</td>\n",
       "    </tr>\n",
       "    <tr>\n",
       "      <th>Album more</th>\n",
       "      <td>0.390553</td>\n",
       "    </tr>\n",
       "    <tr>\n",
       "      <th>UnKnown</th>\n",
       "      <td>0.469788</td>\n",
       "    </tr>\n",
       "    <tr>\n",
       "      <th>Search</th>\n",
       "      <td>0.471749</td>\n",
       "    </tr>\n",
       "    <tr>\n",
       "      <th>Artist more</th>\n",
       "      <td>0.416858</td>\n",
       "    </tr>\n",
       "    <tr>\n",
       "      <th>Discover Feature</th>\n",
       "      <td>0.364104</td>\n",
       "    </tr>\n",
       "    <tr>\n",
       "      <th>Discover Chart</th>\n",
       "      <td>0.517032</td>\n",
       "    </tr>\n",
       "    <tr>\n",
       "      <th>Others profile more</th>\n",
       "      <td>0.312629</td>\n",
       "    </tr>\n",
       "    <tr>\n",
       "      <th>Discover Genre</th>\n",
       "      <td>0.347887</td>\n",
       "    </tr>\n",
       "    <tr>\n",
       "      <th>My library</th>\n",
       "      <td>0.657173</td>\n",
       "    </tr>\n",
       "    <tr>\n",
       "      <th>Explore</th>\n",
       "      <td>0.448149</td>\n",
       "    </tr>\n",
       "    <tr>\n",
       "      <th>Unknown</th>\n",
       "      <td>0.339155</td>\n",
       "    </tr>\n",
       "    <tr>\n",
       "      <th>Discover New</th>\n",
       "      <td>0.455531</td>\n",
       "    </tr>\n",
       "    <tr>\n",
       "      <th>Search Trends</th>\n",
       "      <td>0.376981</td>\n",
       "    </tr>\n",
       "    <tr>\n",
       "      <th>Search Home</th>\n",
       "      <td>0.353583</td>\n",
       "    </tr>\n",
       "    <tr>\n",
       "      <th>My library_Search</th>\n",
       "      <td>0.611223</td>\n",
       "    </tr>\n",
       "    <tr>\n",
       "      <th>Self profile more</th>\n",
       "      <td>0.424528</td>\n",
       "    </tr>\n",
       "    <tr>\n",
       "      <th>Concert</th>\n",
       "      <td>0.510638</td>\n",
       "    </tr>\n",
       "    <tr>\n",
       "      <th>Payment</th>\n",
       "      <td>0.666667</td>\n",
       "    </tr>\n",
       "  </tbody>\n",
       "</table>\n",
       "</div>"
      ],
      "text/plain": [
       "                             0\n",
       "Local playlist more   0.636983\n",
       "Online playlist more  0.414939\n",
       "Radio                 0.217256\n",
       "Album more            0.390553\n",
       "UnKnown               0.469788\n",
       "Search                0.471749\n",
       "Artist more           0.416858\n",
       "Discover Feature      0.364104\n",
       "Discover Chart        0.517032\n",
       "Others profile more   0.312629\n",
       "Discover Genre        0.347887\n",
       "My library            0.657173\n",
       "Explore               0.448149\n",
       "Unknown               0.339155\n",
       "Discover New          0.455531\n",
       "Search Trends         0.376981\n",
       "Search Home           0.353583\n",
       "My library_Search     0.611223\n",
       "Self profile more     0.424528\n",
       "Concert               0.510638\n",
       "Payment               0.666667"
      ]
     },
     "execution_count": 165,
     "metadata": {},
     "output_type": "execute_result"
    }
   ],
   "source": [
    "get_prob(data.source_screen_name)"
   ]
  },
  {
   "cell_type": "code",
   "execution_count": null,
   "metadata": {},
   "outputs": [],
   "source": []
  },
  {
   "cell_type": "code",
   "execution_count": null,
   "metadata": {},
   "outputs": [],
   "source": []
  },
  {
   "cell_type": "code",
   "execution_count": null,
   "metadata": {},
   "outputs": [],
   "source": []
  },
  {
   "cell_type": "code",
   "execution_count": null,
   "metadata": {},
   "outputs": [],
   "source": []
  },
  {
   "cell_type": "code",
   "execution_count": null,
   "metadata": {},
   "outputs": [],
   "source": []
  },
  {
   "cell_type": "code",
   "execution_count": null,
   "metadata": {},
   "outputs": [],
   "source": []
  },
  {
   "cell_type": "code",
   "execution_count": null,
   "metadata": {},
   "outputs": [],
   "source": []
  },
  {
   "cell_type": "code",
   "execution_count": null,
   "metadata": {},
   "outputs": [],
   "source": []
  },
  {
   "cell_type": "code",
   "execution_count": null,
   "metadata": {},
   "outputs": [],
   "source": []
  },
  {
   "cell_type": "code",
   "execution_count": null,
   "metadata": {},
   "outputs": [],
   "source": []
  },
  {
   "cell_type": "code",
   "execution_count": null,
   "metadata": {},
   "outputs": [],
   "source": []
  },
  {
   "cell_type": "code",
   "execution_count": null,
   "metadata": {},
   "outputs": [],
   "source": []
  }
 ],
 "metadata": {
  "kernelspec": {
   "display_name": "Python 3",
   "language": "python",
   "name": "python3"
  },
  "language_info": {
   "codemirror_mode": {
    "name": "ipython",
    "version": 3
   },
   "file_extension": ".py",
   "mimetype": "text/x-python",
   "name": "python",
   "nbconvert_exporter": "python",
   "pygments_lexer": "ipython3",
   "version": "3.8.5"
  }
 },
 "nbformat": 4,
 "nbformat_minor": 4
}

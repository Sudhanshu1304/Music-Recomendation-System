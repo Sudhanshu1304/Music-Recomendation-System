{
 "cells": [
  {
   "cell_type": "markdown",
   "metadata": {},
   "source": [
    "### Final Module\n",
    "# Classifier Model\n",
    "#### Using Different Supervised Algorithm\n",
    "\n",
    "---\n",
    "\n",
    "<br>\n",
    "We have Implemented --\n",
    "\n",
    "* <strong>Random Forest</strong> \n",
    "* Basic Comparation with Other Models\n"
   ]
  },
  {
   "cell_type": "code",
   "execution_count": 39,
   "metadata": {},
   "outputs": [],
   "source": [
    "# Importing the libraries\n",
    "import pandas as pd\n",
    "import ModelAuto as ma\n",
    "from sklearn.preprocessing import MinMaxScaler\n",
    "from sklearn.metrics import accuracy_score\n",
    "# Models\n",
    "from sklearn.ensemble import RandomForestClassifier"
   ]
  },
  {
   "cell_type": "code",
   "execution_count": 3,
   "metadata": {},
   "outputs": [],
   "source": [
    "# Getting the data\n",
    "data = pd.read_csv(r\"C:\\Users\\intel\\Desktop\\Sudhanshu\\Music Rec\\Dataset\\Analysed.csv\",nrows=100000)"
   ]
  },
  {
   "cell_type": "code",
   "execution_count": 4,
   "metadata": {},
   "outputs": [
    {
     "data": {
      "text/plain": [
       "(100000, 20)"
      ]
     },
     "execution_count": 4,
     "metadata": {},
     "output_type": "execute_result"
    }
   ],
   "source": [
    "data.shape"
   ]
  },
  {
   "cell_type": "markdown",
   "metadata": {},
   "source": [
    "We are not concedring membership_days registration_day expiration_date <br>expiration_year, expiration_month, expiration_day <br>\n",
    "\n",
    "Since they are not imp aspect for recomending songs, while registration_year <br> and registration_month could help inunderstanding the period of songs heard"
   ]
  },
  {
   "cell_type": "code",
   "execution_count": 5,
   "metadata": {},
   "outputs": [],
   "source": [
    "for col in data.select_dtypes(include=['object']).columns:\n",
    "    data[col] = data[col].astype('category')"
   ]
  },
  {
   "cell_type": "code",
   "execution_count": 6,
   "metadata": {},
   "outputs": [],
   "source": [
    "for col in data.select_dtypes(include=['category']).columns:\n",
    "    data[col] = data[col].cat.codes"
   ]
  },
  {
   "cell_type": "code",
   "execution_count": 7,
   "metadata": {},
   "outputs": [],
   "source": [
    "Y = data['target']\n",
    "data = data.iloc[:,[0,1,2,3,4,6,7,8,9,10,11,12,14,15]]"
   ]
  },
  {
   "cell_type": "code",
   "execution_count": 8,
   "metadata": {},
   "outputs": [
    {
     "data": {
      "text/html": [
       "<div>\n",
       "<style scoped>\n",
       "    .dataframe tbody tr th:only-of-type {\n",
       "        vertical-align: middle;\n",
       "    }\n",
       "\n",
       "    .dataframe tbody tr th {\n",
       "        vertical-align: top;\n",
       "    }\n",
       "\n",
       "    .dataframe thead th {\n",
       "        text-align: right;\n",
       "    }\n",
       "</style>\n",
       "<table border=\"1\" class=\"dataframe\">\n",
       "  <thead>\n",
       "    <tr style=\"text-align: right;\">\n",
       "      <th></th>\n",
       "      <th>msno</th>\n",
       "      <th>song_id</th>\n",
       "      <th>source_system_tab</th>\n",
       "      <th>source_screen_name</th>\n",
       "      <th>source_type</th>\n",
       "      <th>song_length</th>\n",
       "      <th>genre_ids</th>\n",
       "      <th>artist_name</th>\n",
       "      <th>composer</th>\n",
       "      <th>lyricist</th>\n",
       "      <th>language</th>\n",
       "      <th>bd</th>\n",
       "      <th>registration_year</th>\n",
       "      <th>registration_month</th>\n",
       "    </tr>\n",
       "  </thead>\n",
       "  <tbody>\n",
       "    <tr>\n",
       "      <th>0</th>\n",
       "      <td>1647</td>\n",
       "      <td>6022</td>\n",
       "      <td>2</td>\n",
       "      <td>6</td>\n",
       "      <td>6</td>\n",
       "      <td>206471.0</td>\n",
       "      <td>94</td>\n",
       "      <td>401</td>\n",
       "      <td>1598</td>\n",
       "      <td>2821</td>\n",
       "      <td>52.0</td>\n",
       "      <td>0</td>\n",
       "      <td>2012</td>\n",
       "      <td>1</td>\n",
       "    </tr>\n",
       "    <tr>\n",
       "      <th>1</th>\n",
       "      <td>3471</td>\n",
       "      <td>18027</td>\n",
       "      <td>4</td>\n",
       "      <td>7</td>\n",
       "      <td>5</td>\n",
       "      <td>284584.0</td>\n",
       "      <td>28</td>\n",
       "      <td>3806</td>\n",
       "      <td>7063</td>\n",
       "      <td>2821</td>\n",
       "      <td>52.0</td>\n",
       "      <td>24</td>\n",
       "      <td>2011</td>\n",
       "      <td>5</td>\n",
       "    </tr>\n",
       "    <tr>\n",
       "      <th>2</th>\n",
       "      <td>3471</td>\n",
       "      <td>9744</td>\n",
       "      <td>4</td>\n",
       "      <td>7</td>\n",
       "      <td>5</td>\n",
       "      <td>225396.0</td>\n",
       "      <td>28</td>\n",
       "      <td>2576</td>\n",
       "      <td>5156</td>\n",
       "      <td>2821</td>\n",
       "      <td>52.0</td>\n",
       "      <td>24</td>\n",
       "      <td>2011</td>\n",
       "      <td>5</td>\n",
       "    </tr>\n",
       "    <tr>\n",
       "      <th>3</th>\n",
       "      <td>3471</td>\n",
       "      <td>1868</td>\n",
       "      <td>4</td>\n",
       "      <td>7</td>\n",
       "      <td>5</td>\n",
       "      <td>255512.0</td>\n",
       "      <td>1</td>\n",
       "      <td>3266</td>\n",
       "      <td>4209</td>\n",
       "      <td>2821</td>\n",
       "      <td>-1.0</td>\n",
       "      <td>24</td>\n",
       "      <td>2011</td>\n",
       "      <td>5</td>\n",
       "    </tr>\n",
       "    <tr>\n",
       "      <th>4</th>\n",
       "      <td>1647</td>\n",
       "      <td>2688</td>\n",
       "      <td>2</td>\n",
       "      <td>6</td>\n",
       "      <td>6</td>\n",
       "      <td>187802.0</td>\n",
       "      <td>0</td>\n",
       "      <td>560</td>\n",
       "      <td>973</td>\n",
       "      <td>2821</td>\n",
       "      <td>52.0</td>\n",
       "      <td>0</td>\n",
       "      <td>2012</td>\n",
       "      <td>1</td>\n",
       "    </tr>\n",
       "  </tbody>\n",
       "</table>\n",
       "</div>"
      ],
      "text/plain": [
       "   msno  song_id  source_system_tab  source_screen_name  source_type  \\\n",
       "0  1647     6022                  2                   6            6   \n",
       "1  3471    18027                  4                   7            5   \n",
       "2  3471     9744                  4                   7            5   \n",
       "3  3471     1868                  4                   7            5   \n",
       "4  1647     2688                  2                   6            6   \n",
       "\n",
       "   song_length  genre_ids  artist_name  composer  lyricist  language  bd  \\\n",
       "0     206471.0         94          401      1598      2821      52.0   0   \n",
       "1     284584.0         28         3806      7063      2821      52.0  24   \n",
       "2     225396.0         28         2576      5156      2821      52.0  24   \n",
       "3     255512.0          1         3266      4209      2821      -1.0  24   \n",
       "4     187802.0          0          560       973      2821      52.0   0   \n",
       "\n",
       "   registration_year  registration_month  \n",
       "0               2012                   1  \n",
       "1               2011                   5  \n",
       "2               2011                   5  \n",
       "3               2011                   5  \n",
       "4               2012                   1  "
      ]
     },
     "execution_count": 8,
     "metadata": {},
     "output_type": "execute_result"
    }
   ],
   "source": [
    "data.head()"
   ]
  },
  {
   "cell_type": "markdown",
   "metadata": {},
   "source": [
    "## Normalization"
   ]
  },
  {
   "cell_type": "code",
   "execution_count": 9,
   "metadata": {},
   "outputs": [],
   "source": [
    "scaler = MinMaxScaler()\n",
    "norm = scaler.fit_transform(data)"
   ]
  },
  {
   "cell_type": "code",
   "execution_count": 11,
   "metadata": {},
   "outputs": [],
   "source": [
    "df =  pd.DataFrame(norm,columns=list(data.columns))"
   ]
  },
  {
   "cell_type": "markdown",
   "metadata": {},
   "source": [
    "## Creating Train Test"
   ]
  },
  {
   "cell_type": "code",
   "execution_count": 12,
   "metadata": {},
   "outputs": [],
   "source": [
    "from sklearn.model_selection import train_test_split as tts\n",
    "xtrain,xtest,ytrain,ytest = tts(df,Y,test_size=0.2,random_state=0)"
   ]
  },
  {
   "cell_type": "code",
   "execution_count": 13,
   "metadata": {},
   "outputs": [
    {
     "data": {
      "text/plain": [
       "((80000, 14), (20000, 14))"
      ]
     },
     "execution_count": 13,
     "metadata": {},
     "output_type": "execute_result"
    }
   ],
   "source": [
    "xtrain.shape,xtest.shape"
   ]
  },
  {
   "cell_type": "markdown",
   "metadata": {},
   "source": [
    "## Selecting Features(ensamble Method)"
   ]
  },
  {
   "cell_type": "code",
   "execution_count": 16,
   "metadata": {},
   "outputs": [
    {
     "name": "stdout",
     "output_type": "stream",
     "text": [
      "Feature Analysing...\n",
      "\n",
      "Selected More than features avalable !!!\n"
     ]
    },
    {
     "data": {
      "image/png": "[encoded data removed]",
      "text/plain": [
       "<Figure size 432x288 with 1 Axes>"
      ]
     },
     "metadata": {},
     "output_type": "display_data"
    },
    {
     "name": "stdout",
     "output_type": "stream",
     "text": [
      "\n",
      "\n",
      "  Max Score     : 0.10668602574098864\n",
      "  Min Score     : 0.029347336155320737\n",
      "  Average Score : 0.07142857142857142\n",
      "  \n",
      "  \n"
     ]
    }
   ],
   "source": [
    "feat = ma.Feature_Importence(xtrain,ytrain,15)"
   ]
  },
  {
   "cell_type": "markdown",
   "metadata": {},
   "source": [
    "As we can see <strong>language has a very less importence</strong> <br> \n",
    "as seen in the <strong> Analysis Module </strong>. <br>\n",
    "So we will choose top 13 features (Above 0.05)"
   ]
  },
  {
   "cell_type": "code",
   "execution_count": 19,
   "metadata": {},
   "outputs": [
    {
     "name": "stdout",
     "output_type": "stream",
     "text": [
      "Feature Analysing...\n",
      "\n",
      "\n",
      "  Max Score     : 0.10665750076269927\n",
      "  Min Score     : 0.028897144815940426\n",
      "  Average Score : 0.07142857142857142\n",
      "  \n",
      "  \n"
     ]
    }
   ],
   "source": [
    "feat = ma.Feature_Importence(xtrain,ytrain,13,plot=False)"
   ]
  },
  {
   "cell_type": "code",
   "execution_count": 20,
   "metadata": {},
   "outputs": [
    {
     "data": {
      "text/html": [
       "<div>\n",
       "<style scoped>\n",
       "    .dataframe tbody tr th:only-of-type {\n",
       "        vertical-align: middle;\n",
       "    }\n",
       "\n",
       "    .dataframe tbody tr th {\n",
       "        vertical-align: top;\n",
       "    }\n",
       "\n",
       "    .dataframe thead th {\n",
       "        text-align: right;\n",
       "    }\n",
       "</style>\n",
       "<table border=\"1\" class=\"dataframe\">\n",
       "  <thead>\n",
       "    <tr style=\"text-align: right;\">\n",
       "      <th></th>\n",
       "      <th>genre_ids</th>\n",
       "      <th>source_system_tab</th>\n",
       "      <th>source_screen_name</th>\n",
       "      <th>source_type</th>\n",
       "      <th>song_length</th>\n",
       "      <th>song_id</th>\n",
       "      <th>artist_name</th>\n",
       "      <th>composer</th>\n",
       "      <th>lyricist</th>\n",
       "      <th>msno</th>\n",
       "      <th>bd</th>\n",
       "      <th>registration_year</th>\n",
       "      <th>registration_month</th>\n",
       "    </tr>\n",
       "  </thead>\n",
       "  <tbody>\n",
       "    <tr>\n",
       "      <th>10382</th>\n",
       "      <td>0.59</td>\n",
       "      <td>0.5</td>\n",
       "      <td>0.388889</td>\n",
       "      <td>0.454545</td>\n",
       "      <td>0.063805</td>\n",
       "      <td>0.760059</td>\n",
       "      <td>0.942382</td>\n",
       "      <td>0.704961</td>\n",
       "      <td>0.491207</td>\n",
       "      <td>0.434151</td>\n",
       "      <td>0.040075</td>\n",
       "      <td>1.000000</td>\n",
       "      <td>0.272727</td>\n",
       "    </tr>\n",
       "    <tr>\n",
       "      <th>73171</th>\n",
       "      <td>0.59</td>\n",
       "      <td>0.5</td>\n",
       "      <td>0.388889</td>\n",
       "      <td>0.363636</td>\n",
       "      <td>0.070862</td>\n",
       "      <td>0.079751</td>\n",
       "      <td>0.830298</td>\n",
       "      <td>0.704961</td>\n",
       "      <td>0.491207</td>\n",
       "      <td>0.859264</td>\n",
       "      <td>0.040075</td>\n",
       "      <td>0.750000</td>\n",
       "      <td>0.090909</td>\n",
       "    </tr>\n",
       "    <tr>\n",
       "      <th>30938</th>\n",
       "      <td>0.59</td>\n",
       "      <td>0.5</td>\n",
       "      <td>0.388889</td>\n",
       "      <td>0.363636</td>\n",
       "      <td>0.076856</td>\n",
       "      <td>0.661806</td>\n",
       "      <td>0.833275</td>\n",
       "      <td>0.863060</td>\n",
       "      <td>0.643044</td>\n",
       "      <td>0.241769</td>\n",
       "      <td>0.066170</td>\n",
       "      <td>0.750000</td>\n",
       "      <td>0.181818</td>\n",
       "    </tr>\n",
       "    <tr>\n",
       "      <th>99310</th>\n",
       "      <td>0.59</td>\n",
       "      <td>0.5</td>\n",
       "      <td>0.388889</td>\n",
       "      <td>0.363636</td>\n",
       "      <td>0.055703</td>\n",
       "      <td>0.684916</td>\n",
       "      <td>0.959370</td>\n",
       "      <td>0.958878</td>\n",
       "      <td>0.750479</td>\n",
       "      <td>0.721272</td>\n",
       "      <td>0.040075</td>\n",
       "      <td>0.833333</td>\n",
       "      <td>0.000000</td>\n",
       "    </tr>\n",
       "    <tr>\n",
       "      <th>58959</th>\n",
       "      <td>0.53</td>\n",
       "      <td>0.5</td>\n",
       "      <td>0.388889</td>\n",
       "      <td>0.363636</td>\n",
       "      <td>0.060528</td>\n",
       "      <td>0.690006</td>\n",
       "      <td>0.050438</td>\n",
       "      <td>0.433676</td>\n",
       "      <td>0.491207</td>\n",
       "      <td>0.408812</td>\n",
       "      <td>0.055918</td>\n",
       "      <td>0.916667</td>\n",
       "      <td>0.090909</td>\n",
       "    </tr>\n",
       "  </tbody>\n",
       "</table>\n",
       "</div>"
      ],
      "text/plain": [
       "       genre_ids  source_system_tab  source_screen_name  source_type  \\\n",
       "10382       0.59                0.5            0.388889     0.454545   \n",
       "73171       0.59                0.5            0.388889     0.363636   \n",
       "30938       0.59                0.5            0.388889     0.363636   \n",
       "99310       0.59                0.5            0.388889     0.363636   \n",
       "58959       0.53                0.5            0.388889     0.363636   \n",
       "\n",
       "       song_length   song_id  artist_name  composer  lyricist      msno  \\\n",
       "10382     0.063805  0.760059     0.942382  0.704961  0.491207  0.434151   \n",
       "73171     0.070862  0.079751     0.830298  0.704961  0.491207  0.859264   \n",
       "30938     0.076856  0.661806     0.833275  0.863060  0.643044  0.241769   \n",
       "99310     0.055703  0.684916     0.959370  0.958878  0.750479  0.721272   \n",
       "58959     0.060528  0.690006     0.050438  0.433676  0.491207  0.408812   \n",
       "\n",
       "             bd  registration_year  registration_month  \n",
       "10382  0.040075           1.000000            0.272727  \n",
       "73171  0.040075           0.750000            0.090909  \n",
       "30938  0.066170           0.750000            0.181818  \n",
       "99310  0.040075           0.833333            0.000000  \n",
       "58959  0.055918           0.916667            0.090909  "
      ]
     },
     "execution_count": 20,
     "metadata": {},
     "output_type": "execute_result"
    }
   ],
   "source": [
    "feat.head()"
   ]
  },
  {
   "cell_type": "code",
   "execution_count": 24,
   "metadata": {},
   "outputs": [],
   "source": [
    "xtrain = xtrain[feat.columns]\n",
    "xtest  = xtest[feat.columns]"
   ]
  },
  {
   "cell_type": "markdown",
   "metadata": {},
   "source": [
    "## Base Models - Performence Comp"
   ]
  },
  {
   "cell_type": "code",
   "execution_count": 21,
   "metadata": {},
   "outputs": [
    {
     "name": "stdout",
     "output_type": "stream",
     "text": [
      "Classification Model Selection...\n",
      "LOGISTIC REGRESSIN...\n",
      "\n",
      "ACCURACY :  0.74915\n",
      "\n",
      "KNN...\n",
      "\n",
      "ACCURACY :  0.7814\n",
      "\n",
      "SVM_LINEAR...\n",
      "\n",
      "ACCURACY :  0.75165\n",
      "\n",
      "SVM_NonLinear...\n",
      "\n",
      "ACCURACY :  0.7712\n",
      "\n",
      "Decision Tree...\n",
      "\n",
      "ACCURACY :  0.7892\n",
      "\n",
      "RANDOM FOREST...\n",
      "\n",
      "ACCURACY :  0.8315\n"
     ]
    },
    {
     "data": {
      "image/png": "[encoded data removed]",
      "text/plain": [
       "<Figure size 432x288 with 1 Axes>"
      ]
     },
     "metadata": {},
     "output_type": "display_data"
    }
   ],
   "source": [
    "base_model = ma.ModelSelection.Classi_model(xtrain,xtest,ytrain,ytest)"
   ]
  },
  {
   "cell_type": "code",
   "execution_count": 43,
   "metadata": {},
   "outputs": [
    {
     "data": {
      "text/plain": [
       "RandomForestClassifier(bootstrap=True, ccp_alpha=0.0, class_weight=None,\n",
       "                       criterion='entropy', max_depth=None, max_features='auto',\n",
       "                       max_leaf_nodes=None, max_samples=None,\n",
       "                       min_impurity_decrease=0.0, min_impurity_split=None,\n",
       "                       min_samples_leaf=1, min_samples_split=2,\n",
       "                       min_weight_fraction_leaf=0.0, n_estimators=100,\n",
       "                       n_jobs=None, oob_score=False, random_state=0, verbose=0,\n",
       "                       warm_start=False)"
      ]
     },
     "execution_count": 43,
     "metadata": {},
     "output_type": "execute_result"
    }
   ],
   "source": [
    "regressor_rf = RandomForestClassifier(n_estimators = 100,random_state = 0,criterion = 'entropy')\n",
    "regressor_rf.fit(xtrain,ytrain)"
   ]
  },
  {
   "cell_type": "code",
   "execution_count": 44,
   "metadata": {},
   "outputs": [
    {
     "name": "stdout",
     "output_type": "stream",
     "text": [
      "ACCURACY :  0.8322\n"
     ]
    }
   ],
   "source": [
    "y_pred=regressor_rf.predict(xtest)\n",
    "y_pred_rf=accuracy_score(ytest,y_pred)\n",
    "print('ACCURACY : ',y_pred_rf)"
   ]
  },
  {
   "cell_type": "markdown",
   "metadata": {},
   "source": [
    "# Based Model OF Random Forest Classifier"
   ]
  },
  {
   "cell_type": "markdown",
   "metadata": {},
   "source": [
    "### Accurecy : 0.8322 %"
   ]
  },
  {
   "cell_type": "code",
   "execution_count": null,
   "metadata": {},
   "outputs": [],
   "source": []
  }
 ],
 "metadata": {
  "kernelspec": {
   "display_name": "Python 3",
   "language": "python",
   "name": "python3"
  },
  "language_info": {
   "codemirror_mode": {
    "name": "ipython",
    "version": 3
   },
   "file_extension": ".py",
   "mimetype": "text/x-python",
   "name": "python",
   "nbconvert_exporter": "python",
   "pygments_lexer": "ipython3",
   "version": "3.7.6"
  }
 },
 "nbformat": 4,
 "nbformat_minor": 4
}
